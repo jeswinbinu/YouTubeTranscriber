{
 "cells": [
  {
   "cell_type": "markdown",
   "metadata": {},
   "source": [
    "# YouTube Video Transcriber\n",
    "This notebook allows you to transcribe YouTube videos and split the transcription into chunks of up to 15 seconds."
   ]
  },
  {
   "cell_type": "code",
   "execution_count": null,
   "metadata": {},
   "outputs": [],
   "source": [
    "# Install necessary packages\n",
    "!pip install gradio pytube moviepy assemblyai"
   ]
  },
  {
   "cell_type": "code",
   "execution_count": null,
   "metadata": {},
   "outputs": [],
   "source": [
    "import gradio as gr\n",
    "from pytube import YouTube\n",
    "import moviepy.editor as mp\n",
    "import assemblyai as aai\n",
    "\n",
    "# Set your AssemblyAI API key\n",
    "aai.settings.api_key = \"6ec9984d3fb94cba862817809576a596\"  # Replace with your actual API key"
   ]
  },
  {
   "cell_type": "code",
   "execution_count": null,
   "metadata": {},
   "outputs": [],
   "source": [
    "def download_video(youtube_link):\n",
    "    yt = YouTube(youtube_link)\n",
    "    video_stream = yt.streams.filter(progressive=True, file_extension=\"mp4\").first()\n",
    "    video_stream.download(filename=\"downloaded_video.mp4\")\n",
    "    return \"downloaded_video.mp4\""
   ]
  },
  {
   "cell_type": "code",
   "execution_count": null,
   "metadata": {},
   "outputs": [],
   "source": [
    "def extract_audio(video_path):\n",
    "    video_clip = mp.VideoFileClip(video_path)\n",
    "    audio_path = \"audio.wav\"\n",
    "    video_clip.audio.write_audiofile(audio_path)\n",
    "    return audio_path"
   ]
  },
  {
   "cell_type": "code",
   "execution_count": null,
   "metadata": {},
   "outputs": [],
   "source": [
    "def parse_timecode_to_seconds(timecode):\n",
    "    hours, minutes, seconds = timecode.split(':')\n",
    "    seconds, milliseconds = seconds.split(',')\n",
    "    return int(hours) * 3600 + int(minutes) * 60 + int(seconds) + int(milliseconds) / 1000"
   ]
  },
  {
   "cell_type": "code",
   "execution_count": null,
   "metadata": {},
   "outputs": [],
   "source": [
    "def format_time(seconds):\n",
    "    \"\"\"Converts seconds to a formatted time string hh:mm:ss.\"\"\"\n",
    "    hours = int(seconds // 3600)\n",
    "    minutes = int((seconds % 3600) // 60)\n",
    "    seconds = seconds % 60\n",
    "    return f\"{hours:02}:{minutes:02}:{seconds:05.2f}\""
   ]
  },
  {
   "cell_type": "code",
   "execution_count": null,
   "metadata": {},
   "outputs": [],
   "source": [
    "def combine_chunks(entries):\n",
    "    max_duration = 15.0\n",
    "    output_list = []\n",
    "    chunk_id = 1\n",
    "\n",
    "    current_text = []\n",
    "    current_start_time = None\n",
    "    current_duration = 0.0\n",
    "\n",
    "    for entry in entries:\n",
    "        lines = entry.split('\\n')\n",
    "        timecodes = lines[1]\n",
    "        text = '\\n'.join(lines[2:])\n",
    "        \n",
    "        start_time, end_time = timecodes.split(' --> ')\n",
    "        start_seconds = parse_timecode_to_seconds(start_time)\n",
    "        end_seconds = parse_timecode_to_seconds(end_time)\n",
    "        duration = end_seconds - start_seconds\n",
    "\n",
    "        if current_start_time is None:\n",
    "            current_start_time = start_seconds\n",
    "\n",
    "        if current_duration + duration > max_duration:\n",
    "            output_list.append({\n",
    "                \"chunk_id\": chunk_id,\n",
    "                \"chunk_length\": current_duration,\n",
    "                \"text\": ' '.join(current_text),\n",
    "                \"start_time\": current_start_time,\n",
    "                \"end_time\": start_seconds\n",
    "            })\n",
    "            chunk_id += 1\n",
    "            current_text = [text]\n",
    "            current_start_time = start_seconds\n",
    "            current_duration = duration\n",
    "        else:\n",
    "            current_text.append(text)\n",
    "            current_duration += duration\n",
    "\n",
    "    if current_text:\n",
    "        output_list.append({\n",
    "            \"chunk_id\": chunk_id,\n",
    "            \"chunk_length\": current_duration,\n",
    "            \"text\": ' '.join(current_text),\n",
    "            \"start_time\": current_start_time,\n",
    "            \"end_time\": current_start_time + current_duration\n",
    "        })\n",
    "\n",
    "    return output_list"
   ]
  },
  {
   "cell_type": "code",
   "execution_count": null,
   "metadata": {},
   "outputs": [],
   "source": [
    "def process_video(youtube_link):\n",
    "    video_path = download_video(youtube_link)\n",
    "    audio_path = extract_audio(video_path)\n",
    "    \n",
    "    transcriber = aai.Transcriber()\n",
    "    transcript = transcriber.transcribe(audio_path)\n",
    "    srt = transcript.export_subtitles_srt()\n",
    "\n",
    "    if transcript.status == aai.TranscriptStatus.error:\n",
    "        return \"Error in transcription: \" + transcript.error\n",
    "    else:\n",
    "        entries = srt.strip().split('\\n\\n')\n",
    "        output_list = combine_chunks(entries)\n",
    "        return \"\\n\\n\".join([f\"Chunk {chunk['chunk_id']} (duration:{chunk['chunk_length']:.2f}s,start:{format_time(chunk['start_time'])} --> end:{format_time(chunk['end_time'])}): {chunk['text']}\" for chunk in output_list])"
   ]
  },
  {
   "cell_type": "code",
   "execution_count": null,
   "metadata": {},
   "outputs": [],
   "source": [
    "# Gradio interface\n",
    "iface = gr.Interface(\n",
    "    fn=process_video,\n",
    "    inputs=gr.Textbox(label=\"Enter YouTube Video Link\"),\n",
    "    outputs=gr.Textbox(label=\"Transcribed Text\"),\n",
    "    title=\"YouTube Video Transcriber\",\n",
    "    description=\"Enter a YouTube link to get a transcribed text divided into chunks of up to 15 seconds.\"\n",
    ")\n",
    "\n",
    "iface.launch(share=True)"
   ]
  }
 ],
 "metadata": {
  "colab": {
   "name": "YouTube Video Transcriber.ipynb",
   "provenance": []
  },
  "kernelspec": {
   "display_name": "Python 3",
   "language": "python",
   "name": "python3"
  },
  "language_info": {
   "codemirror_mode": {
    "name": "ipython",
    "version": 3
   },
   "file_extension": ".py",
   "mimetype": "text/x-python",
   "name": "python",
   "nbconvert_exporter": "python",
   "pygments_lexer": "ipython3",
   "version": "3.7.13"
  }
 },
 "nbformat": 4,
 "nbformat_minor": 2
}
